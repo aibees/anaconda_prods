{
  "nbformat": 4,
  "nbformat_minor": 0,
  "metadata": {
    "colab": {
      "name": "Untitled11.ipynb",
      "provenance": [],
      "authorship_tag": "ABX9TyP8X4RI6rwvnmzlnEOq+G/j",
      "include_colab_link": true
    },
    "kernelspec": {
      "name": "python3",
      "display_name": "Python 3"
    },
    "language_info": {
      "name": "python"
    }
  },
  "cells": [
    {
      "cell_type": "markdown",
      "metadata": {
        "id": "view-in-github",
        "colab_type": "text"
      },
      "source": [
        "<a href=\"https://colab.research.google.com/github/aibees/anaconda_prods/blob/main/multi%20linear%20regression.ipynb\" target=\"_parent\"><img src=\"https://colab.research.google.com/assets/colab-badge.svg\" alt=\"Open In Colab\"/></a>"
      ]
    },
    {
      "cell_type": "code",
      "metadata": {
        "id": "Ee4V8kUBeu3h"
      },
      "source": [
        "import pandas as pd\n",
        "from statsmodels.formula.api import ols\n",
        "from sklearn.model_selection import train_test_split"
      ],
      "execution_count": 6,
      "outputs": []
    },
    {
      "cell_type": "code",
      "metadata": {
        "id": "VCIs6uKrfS0E"
      },
      "source": [
        "dia = pd.read_csv(\"diamonds.csv\")"
      ],
      "execution_count": 7,
      "outputs": []
    },
    {
      "cell_type": "code",
      "metadata": {
        "id": "saaJYjA6fU-D"
      },
      "source": [
        "#d_train, d_test = train_test_split(dia, train_size = 0.7)\n",
        "formula = \"price ~ carat + depth\"\n",
        "model = ols(formula, data = dia).fit()"
      ],
      "execution_count": 19,
      "outputs": []
    },
    {
      "cell_type": "code",
      "metadata": {
        "colab": {
          "base_uri": "https://localhost:8080/",
          "height": 499
        },
        "id": "SdnDFJnQfeF6",
        "outputId": "92a2fea2-47e5-4e3c-91d7-905bdc3a1451"
      },
      "source": [
        "model.summary()"
      ],
      "execution_count": 20,
      "outputs": [
        {
          "output_type": "execute_result",
          "data": {
            "text/html": [
              "<table class=\"simpletable\">\n",
              "<caption>OLS Regression Results</caption>\n",
              "<tr>\n",
              "  <th>Dep. Variable:</th>          <td>price</td>      <th>  R-squared:         </th>  <td>   0.851</td>  \n",
              "</tr>\n",
              "<tr>\n",
              "  <th>Model:</th>                   <td>OLS</td>       <th>  Adj. R-squared:    </th>  <td>   0.851</td>  \n",
              "</tr>\n",
              "<tr>\n",
              "  <th>Method:</th>             <td>Least Squares</td>  <th>  F-statistic:       </th>  <td>1.536e+05</td> \n",
              "</tr>\n",
              "<tr>\n",
              "  <th>Date:</th>             <td>Mon, 16 Aug 2021</td> <th>  Prob (F-statistic):</th>   <td>  0.00</td>   \n",
              "</tr>\n",
              "<tr>\n",
              "  <th>Time:</th>                 <td>06:06:14</td>     <th>  Log-Likelihood:    </th> <td>-4.7249e+05</td>\n",
              "</tr>\n",
              "<tr>\n",
              "  <th>No. Observations:</th>      <td> 53940</td>      <th>  AIC:               </th>  <td>9.450e+05</td> \n",
              "</tr>\n",
              "<tr>\n",
              "  <th>Df Residuals:</th>          <td> 53937</td>      <th>  BIC:               </th>  <td>9.450e+05</td> \n",
              "</tr>\n",
              "<tr>\n",
              "  <th>Df Model:</th>              <td>     2</td>      <th>                     </th>      <td> </td>     \n",
              "</tr>\n",
              "<tr>\n",
              "  <th>Covariance Type:</th>      <td>nonrobust</td>    <th>                     </th>      <td> </td>     \n",
              "</tr>\n",
              "</table>\n",
              "<table class=\"simpletable\">\n",
              "<tr>\n",
              "      <td></td>         <th>coef</th>     <th>std err</th>      <th>t</th>      <th>P>|t|</th>  <th>[0.025</th>    <th>0.975]</th>  \n",
              "</tr>\n",
              "<tr>\n",
              "  <th>Intercept</th> <td> 4045.3332</td> <td>  286.205</td> <td>   14.134</td> <td> 0.000</td> <td> 3484.368</td> <td> 4606.298</td>\n",
              "</tr>\n",
              "<tr>\n",
              "  <th>carat</th>     <td> 7765.1407</td> <td>   14.009</td> <td>  554.282</td> <td> 0.000</td> <td> 7737.682</td> <td> 7792.599</td>\n",
              "</tr>\n",
              "<tr>\n",
              "  <th>depth</th>     <td> -102.1653</td> <td>    4.635</td> <td>  -22.041</td> <td> 0.000</td> <td> -111.251</td> <td>  -93.080</td>\n",
              "</tr>\n",
              "</table>\n",
              "<table class=\"simpletable\">\n",
              "<tr>\n",
              "  <th>Omnibus:</th>       <td>14148.858</td> <th>  Durbin-Watson:     </th>  <td>   0.992</td> \n",
              "</tr>\n",
              "<tr>\n",
              "  <th>Prob(Omnibus):</th>  <td> 0.000</td>   <th>  Jarque-Bera (JB):  </th> <td>148236.675</td>\n",
              "</tr>\n",
              "<tr>\n",
              "  <th>Skew:</th>           <td> 0.962</td>   <th>  Prob(JB):          </th>  <td>    0.00</td> \n",
              "</tr>\n",
              "<tr>\n",
              "  <th>Kurtosis:</th>       <td>10.890</td>   <th>  Cond. No.          </th>  <td>2.66e+03</td> \n",
              "</tr>\n",
              "</table><br/><br/>Warnings:<br/>[1] Standard Errors assume that the covariance matrix of the errors is correctly specified.<br/>[2] The condition number is large, 2.66e+03. This might indicate that there are<br/>strong multicollinearity or other numerical problems."
            ],
            "text/plain": [
              "<class 'statsmodels.iolib.summary.Summary'>\n",
              "\"\"\"\n",
              "                            OLS Regression Results                            \n",
              "==============================================================================\n",
              "Dep. Variable:                  price   R-squared:                       0.851\n",
              "Model:                            OLS   Adj. R-squared:                  0.851\n",
              "Method:                 Least Squares   F-statistic:                 1.536e+05\n",
              "Date:                Mon, 16 Aug 2021   Prob (F-statistic):               0.00\n",
              "Time:                        06:06:14   Log-Likelihood:            -4.7249e+05\n",
              "No. Observations:               53940   AIC:                         9.450e+05\n",
              "Df Residuals:                   53937   BIC:                         9.450e+05\n",
              "Df Model:                           2                                         \n",
              "Covariance Type:            nonrobust                                         \n",
              "==============================================================================\n",
              "                 coef    std err          t      P>|t|      [0.025      0.975]\n",
              "------------------------------------------------------------------------------\n",
              "Intercept   4045.3332    286.205     14.134      0.000    3484.368    4606.298\n",
              "carat       7765.1407     14.009    554.282      0.000    7737.682    7792.599\n",
              "depth       -102.1653      4.635    -22.041      0.000    -111.251     -93.080\n",
              "==============================================================================\n",
              "Omnibus:                    14148.858   Durbin-Watson:                   0.992\n",
              "Prob(Omnibus):                  0.000   Jarque-Bera (JB):           148236.675\n",
              "Skew:                           0.962   Prob(JB):                         0.00\n",
              "Kurtosis:                      10.890   Cond. No.                     2.66e+03\n",
              "==============================================================================\n",
              "\n",
              "Warnings:\n",
              "[1] Standard Errors assume that the covariance matrix of the errors is correctly specified.\n",
              "[2] The condition number is large, 2.66e+03. This might indicate that there are\n",
              "strong multicollinearity or other numerical problems.\n",
              "\"\"\""
            ]
          },
          "metadata": {
            "tags": []
          },
          "execution_count": 20
        }
      ]
    },
    {
      "cell_type": "code",
      "metadata": {
        "id": "Kz6INAnWfgOS"
      },
      "source": [
        "datum = pd.DataFrame({\n",
        "    \"carat\": [1],\n",
        "    \"depth\" : [60],\n",
        "    \"table\" : [55]\n",
        "})\n",
        "pred = model.predict(datum)"
      ],
      "execution_count": 24,
      "outputs": []
    },
    {
      "cell_type": "code",
      "metadata": {
        "colab": {
          "base_uri": "https://localhost:8080/"
        },
        "id": "4Lq9cXn7hNHx",
        "outputId": "69abfdca-778e-4b2d-d299-9500e70fbd50"
      },
      "source": [
        "pred.head()"
      ],
      "execution_count": 25,
      "outputs": [
        {
          "output_type": "execute_result",
          "data": {
            "text/plain": [
              "0    5680.554517\n",
              "dtype: float64"
            ]
          },
          "metadata": {
            "tags": []
          },
          "execution_count": 25
        }
      ]
    },
    {
      "cell_type": "code",
      "metadata": {
        "colab": {
          "base_uri": "https://localhost:8080/",
          "height": 111
        },
        "id": "C8YXzKRgkYJI",
        "outputId": "8e0bed32-caf8-4fd5-9a65-8868946bb66c"
      },
      "source": [
        "# price 종속, carat, color, depth 독립(가변수 추가)\n",
        "# carat = 1, depth = 50, color = E\n",
        "dia.head(2)"
      ],
      "execution_count": 26,
      "outputs": [
        {
          "output_type": "execute_result",
          "data": {
            "text/html": [
              "<div>\n",
              "<style scoped>\n",
              "    .dataframe tbody tr th:only-of-type {\n",
              "        vertical-align: middle;\n",
              "    }\n",
              "\n",
              "    .dataframe tbody tr th {\n",
              "        vertical-align: top;\n",
              "    }\n",
              "\n",
              "    .dataframe thead th {\n",
              "        text-align: right;\n",
              "    }\n",
              "</style>\n",
              "<table border=\"1\" class=\"dataframe\">\n",
              "  <thead>\n",
              "    <tr style=\"text-align: right;\">\n",
              "      <th></th>\n",
              "      <th>carat</th>\n",
              "      <th>cut</th>\n",
              "      <th>color</th>\n",
              "      <th>clarity</th>\n",
              "      <th>depth</th>\n",
              "      <th>table</th>\n",
              "      <th>price</th>\n",
              "      <th>x</th>\n",
              "      <th>y</th>\n",
              "      <th>z</th>\n",
              "    </tr>\n",
              "  </thead>\n",
              "  <tbody>\n",
              "    <tr>\n",
              "      <th>0</th>\n",
              "      <td>0.23</td>\n",
              "      <td>Ideal</td>\n",
              "      <td>E</td>\n",
              "      <td>SI2</td>\n",
              "      <td>61.5</td>\n",
              "      <td>55.0</td>\n",
              "      <td>326</td>\n",
              "      <td>3.95</td>\n",
              "      <td>3.98</td>\n",
              "      <td>2.43</td>\n",
              "    </tr>\n",
              "    <tr>\n",
              "      <th>1</th>\n",
              "      <td>0.21</td>\n",
              "      <td>Premium</td>\n",
              "      <td>E</td>\n",
              "      <td>SI1</td>\n",
              "      <td>59.8</td>\n",
              "      <td>61.0</td>\n",
              "      <td>326</td>\n",
              "      <td>3.89</td>\n",
              "      <td>3.84</td>\n",
              "      <td>2.31</td>\n",
              "    </tr>\n",
              "  </tbody>\n",
              "</table>\n",
              "</div>"
            ],
            "text/plain": [
              "   carat      cut color clarity  depth  table  price     x     y     z\n",
              "0   0.23    Ideal     E     SI2   61.5   55.0    326  3.95  3.98  2.43\n",
              "1   0.21  Premium     E     SI1   59.8   61.0    326  3.89  3.84  2.31"
            ]
          },
          "metadata": {
            "tags": []
          },
          "execution_count": 26
        }
      ]
    },
    {
      "cell_type": "code",
      "metadata": {
        "id": "3-xdb28ElT1w"
      },
      "source": [
        "dia = pd.read_csv(\"diamonds.csv\")\n",
        "dia = dia.loc[:, [\"price\", \"carat\", \"depth\", \"color\"]]\n",
        "dia = pd.get_dummies(dia, columns = [\"color\"])"
      ],
      "execution_count": 33,
      "outputs": []
    },
    {
      "cell_type": "code",
      "metadata": {
        "colab": {
          "base_uri": "https://localhost:8080/",
          "height": 204
        },
        "id": "KFrI1FRdlaMg",
        "outputId": "d44cd371-a078-459d-91d6-a8171f6bbe43"
      },
      "source": [
        "dia.head()"
      ],
      "execution_count": 34,
      "outputs": [
        {
          "output_type": "execute_result",
          "data": {
            "text/html": [
              "<div>\n",
              "<style scoped>\n",
              "    .dataframe tbody tr th:only-of-type {\n",
              "        vertical-align: middle;\n",
              "    }\n",
              "\n",
              "    .dataframe tbody tr th {\n",
              "        vertical-align: top;\n",
              "    }\n",
              "\n",
              "    .dataframe thead th {\n",
              "        text-align: right;\n",
              "    }\n",
              "</style>\n",
              "<table border=\"1\" class=\"dataframe\">\n",
              "  <thead>\n",
              "    <tr style=\"text-align: right;\">\n",
              "      <th></th>\n",
              "      <th>price</th>\n",
              "      <th>carat</th>\n",
              "      <th>depth</th>\n",
              "      <th>color_D</th>\n",
              "      <th>color_E</th>\n",
              "      <th>color_F</th>\n",
              "      <th>color_G</th>\n",
              "      <th>color_H</th>\n",
              "      <th>color_I</th>\n",
              "      <th>color_J</th>\n",
              "    </tr>\n",
              "  </thead>\n",
              "  <tbody>\n",
              "    <tr>\n",
              "      <th>0</th>\n",
              "      <td>326</td>\n",
              "      <td>0.23</td>\n",
              "      <td>61.5</td>\n",
              "      <td>0</td>\n",
              "      <td>1</td>\n",
              "      <td>0</td>\n",
              "      <td>0</td>\n",
              "      <td>0</td>\n",
              "      <td>0</td>\n",
              "      <td>0</td>\n",
              "    </tr>\n",
              "    <tr>\n",
              "      <th>1</th>\n",
              "      <td>326</td>\n",
              "      <td>0.21</td>\n",
              "      <td>59.8</td>\n",
              "      <td>0</td>\n",
              "      <td>1</td>\n",
              "      <td>0</td>\n",
              "      <td>0</td>\n",
              "      <td>0</td>\n",
              "      <td>0</td>\n",
              "      <td>0</td>\n",
              "    </tr>\n",
              "    <tr>\n",
              "      <th>2</th>\n",
              "      <td>327</td>\n",
              "      <td>0.23</td>\n",
              "      <td>56.9</td>\n",
              "      <td>0</td>\n",
              "      <td>1</td>\n",
              "      <td>0</td>\n",
              "      <td>0</td>\n",
              "      <td>0</td>\n",
              "      <td>0</td>\n",
              "      <td>0</td>\n",
              "    </tr>\n",
              "    <tr>\n",
              "      <th>3</th>\n",
              "      <td>334</td>\n",
              "      <td>0.29</td>\n",
              "      <td>62.4</td>\n",
              "      <td>0</td>\n",
              "      <td>0</td>\n",
              "      <td>0</td>\n",
              "      <td>0</td>\n",
              "      <td>0</td>\n",
              "      <td>1</td>\n",
              "      <td>0</td>\n",
              "    </tr>\n",
              "    <tr>\n",
              "      <th>4</th>\n",
              "      <td>335</td>\n",
              "      <td>0.31</td>\n",
              "      <td>63.3</td>\n",
              "      <td>0</td>\n",
              "      <td>0</td>\n",
              "      <td>0</td>\n",
              "      <td>0</td>\n",
              "      <td>0</td>\n",
              "      <td>0</td>\n",
              "      <td>1</td>\n",
              "    </tr>\n",
              "  </tbody>\n",
              "</table>\n",
              "</div>"
            ],
            "text/plain": [
              "   price  carat  depth  color_D  ...  color_G  color_H  color_I  color_J\n",
              "0    326   0.23   61.5        0  ...        0        0        0        0\n",
              "1    326   0.21   59.8        0  ...        0        0        0        0\n",
              "2    327   0.23   56.9        0  ...        0        0        0        0\n",
              "3    334   0.29   62.4        0  ...        0        0        1        0\n",
              "4    335   0.31   63.3        0  ...        0        0        0        1\n",
              "\n",
              "[5 rows x 10 columns]"
            ]
          },
          "metadata": {
            "tags": []
          },
          "execution_count": 34
        }
      ]
    },
    {
      "cell_type": "code",
      "metadata": {
        "id": "DqBscdsLlbQf"
      },
      "source": [
        "formula = \"price ~ \" + \" + \".join(dia.columns[1:])\n",
        "model_dia = ols(formula, dia).fit()"
      ],
      "execution_count": 35,
      "outputs": []
    },
    {
      "cell_type": "code",
      "metadata": {
        "colab": {
          "base_uri": "https://localhost:8080/",
          "height": 646
        },
        "id": "FtvCW8SLmxn2",
        "outputId": "1db19248-e89c-4be3-a86e-afcacb0a825c"
      },
      "source": [
        "model_dia.summary()"
      ],
      "execution_count": 36,
      "outputs": [
        {
          "output_type": "execute_result",
          "data": {
            "text/html": [
              "<table class=\"simpletable\">\n",
              "<caption>OLS Regression Results</caption>\n",
              "<tr>\n",
              "  <th>Dep. Variable:</th>          <td>price</td>      <th>  R-squared:         </th>  <td>   0.865</td>  \n",
              "</tr>\n",
              "<tr>\n",
              "  <th>Model:</th>                   <td>OLS</td>       <th>  Adj. R-squared:    </th>  <td>   0.865</td>  \n",
              "</tr>\n",
              "<tr>\n",
              "  <th>Method:</th>             <td>Least Squares</td>  <th>  F-statistic:       </th>  <td>4.319e+04</td> \n",
              "</tr>\n",
              "<tr>\n",
              "  <th>Date:</th>             <td>Mon, 16 Aug 2021</td> <th>  Prob (F-statistic):</th>   <td>  0.00</td>   \n",
              "</tr>\n",
              "<tr>\n",
              "  <th>Time:</th>                 <td>06:17:26</td>     <th>  Log-Likelihood:    </th> <td>-4.6977e+05</td>\n",
              "</tr>\n",
              "<tr>\n",
              "  <th>No. Observations:</th>      <td> 53940</td>      <th>  AIC:               </th>  <td>9.396e+05</td> \n",
              "</tr>\n",
              "<tr>\n",
              "  <th>Df Residuals:</th>          <td> 53931</td>      <th>  BIC:               </th>  <td>9.396e+05</td> \n",
              "</tr>\n",
              "<tr>\n",
              "  <th>Df Model:</th>              <td>     8</td>      <th>                     </th>      <td> </td>     \n",
              "</tr>\n",
              "<tr>\n",
              "  <th>Covariance Type:</th>      <td>nonrobust</td>    <th>                     </th>      <td> </td>     \n",
              "</tr>\n",
              "</table>\n",
              "<table class=\"simpletable\">\n",
              "<tr>\n",
              "      <td></td>         <th>coef</th>     <th>std err</th>      <th>t</th>      <th>P>|t|</th>  <th>[0.025</th>    <th>0.975]</th>  \n",
              "</tr>\n",
              "<tr>\n",
              "  <th>Intercept</th> <td> 2483.9313</td> <td>  238.620</td> <td>   10.410</td> <td> 0.000</td> <td> 2016.235</td> <td> 2951.628</td>\n",
              "</tr>\n",
              "<tr>\n",
              "  <th>carat</th>     <td> 8070.6389</td> <td>   13.988</td> <td>  576.983</td> <td> 0.000</td> <td> 8043.223</td> <td> 8098.055</td>\n",
              "</tr>\n",
              "<tr>\n",
              "  <th>depth</th>     <td>  -89.7605</td> <td>    4.412</td> <td>  -20.344</td> <td> 0.000</td> <td>  -98.408</td> <td>  -81.113</td>\n",
              "</tr>\n",
              "<tr>\n",
              "  <th>color_D</th>   <td>  915.2547</td> <td>   37.639</td> <td>   24.316</td> <td> 0.000</td> <td>  841.481</td> <td>  989.028</td>\n",
              "</tr>\n",
              "<tr>\n",
              "  <th>color_E</th>   <td>  818.2386</td> <td>   36.505</td> <td>   22.414</td> <td> 0.000</td> <td>  746.688</td> <td>  889.789</td>\n",
              "</tr>\n",
              "<tr>\n",
              "  <th>color_F</th>   <td>  834.3575</td> <td>   36.665</td> <td>   22.756</td> <td> 0.000</td> <td>  762.494</td> <td>  906.221</td>\n",
              "</tr>\n",
              "<tr>\n",
              "  <th>color_G</th>   <td>  834.5576</td> <td>   36.559</td> <td>   22.828</td> <td> 0.000</td> <td>  762.902</td> <td>  906.213</td>\n",
              "</tr>\n",
              "<tr>\n",
              "  <th>color_H</th>   <td>  194.4448</td> <td>   37.624</td> <td>    5.168</td> <td> 0.000</td> <td>  120.701</td> <td>  268.189</td>\n",
              "</tr>\n",
              "<tr>\n",
              "  <th>color_I</th>   <td> -128.6517</td> <td>   39.120</td> <td>   -3.289</td> <td> 0.001</td> <td> -205.328</td> <td>  -51.976</td>\n",
              "</tr>\n",
              "<tr>\n",
              "  <th>color_J</th>   <td> -984.2701</td> <td>   42.853</td> <td>  -22.968</td> <td> 0.000</td> <td>-1068.263</td> <td> -900.277</td>\n",
              "</tr>\n",
              "</table>\n",
              "<table class=\"simpletable\">\n",
              "<tr>\n",
              "  <th>Omnibus:</th>       <td>12411.519</td> <th>  Durbin-Watson:     </th>  <td>   0.953</td> \n",
              "</tr>\n",
              "<tr>\n",
              "  <th>Prob(Omnibus):</th>  <td> 0.000</td>   <th>  Jarque-Bera (JB):  </th> <td>159901.705</td>\n",
              "</tr>\n",
              "<tr>\n",
              "  <th>Skew:</th>           <td> 0.746</td>   <th>  Prob(JB):          </th>  <td>    0.00</td> \n",
              "</tr>\n",
              "<tr>\n",
              "  <th>Kurtosis:</th>       <td>11.302</td>   <th>  Cond. No.          </th>  <td>9.91e+16</td> \n",
              "</tr>\n",
              "</table><br/><br/>Warnings:<br/>[1] Standard Errors assume that the covariance matrix of the errors is correctly specified.<br/>[2] The smallest eigenvalue is 2.09e-26. This might indicate that there are<br/>strong multicollinearity problems or that the design matrix is singular."
            ],
            "text/plain": [
              "<class 'statsmodels.iolib.summary.Summary'>\n",
              "\"\"\"\n",
              "                            OLS Regression Results                            \n",
              "==============================================================================\n",
              "Dep. Variable:                  price   R-squared:                       0.865\n",
              "Model:                            OLS   Adj. R-squared:                  0.865\n",
              "Method:                 Least Squares   F-statistic:                 4.319e+04\n",
              "Date:                Mon, 16 Aug 2021   Prob (F-statistic):               0.00\n",
              "Time:                        06:17:26   Log-Likelihood:            -4.6977e+05\n",
              "No. Observations:               53940   AIC:                         9.396e+05\n",
              "Df Residuals:                   53931   BIC:                         9.396e+05\n",
              "Df Model:                           8                                         \n",
              "Covariance Type:            nonrobust                                         \n",
              "==============================================================================\n",
              "                 coef    std err          t      P>|t|      [0.025      0.975]\n",
              "------------------------------------------------------------------------------\n",
              "Intercept   2483.9313    238.620     10.410      0.000    2016.235    2951.628\n",
              "carat       8070.6389     13.988    576.983      0.000    8043.223    8098.055\n",
              "depth        -89.7605      4.412    -20.344      0.000     -98.408     -81.113\n",
              "color_D      915.2547     37.639     24.316      0.000     841.481     989.028\n",
              "color_E      818.2386     36.505     22.414      0.000     746.688     889.789\n",
              "color_F      834.3575     36.665     22.756      0.000     762.494     906.221\n",
              "color_G      834.5576     36.559     22.828      0.000     762.902     906.213\n",
              "color_H      194.4448     37.624      5.168      0.000     120.701     268.189\n",
              "color_I     -128.6517     39.120     -3.289      0.001    -205.328     -51.976\n",
              "color_J     -984.2701     42.853    -22.968      0.000   -1068.263    -900.277\n",
              "==============================================================================\n",
              "Omnibus:                    12411.519   Durbin-Watson:                   0.953\n",
              "Prob(Omnibus):                  0.000   Jarque-Bera (JB):           159901.705\n",
              "Skew:                           0.746   Prob(JB):                         0.00\n",
              "Kurtosis:                      11.302   Cond. No.                     9.91e+16\n",
              "==============================================================================\n",
              "\n",
              "Warnings:\n",
              "[1] Standard Errors assume that the covariance matrix of the errors is correctly specified.\n",
              "[2] The smallest eigenvalue is 2.09e-26. This might indicate that there are\n",
              "strong multicollinearity problems or that the design matrix is singular.\n",
              "\"\"\""
            ]
          },
          "metadata": {
            "tags": []
          },
          "execution_count": 36
        }
      ]
    },
    {
      "cell_type": "code",
      "metadata": {
        "colab": {
          "base_uri": "https://localhost:8080/"
        },
        "id": "boBH52Pbmzm-",
        "outputId": "7df0e005-bb32-49f3-b9b2-df79d73ce804"
      },
      "source": [
        "prob = pd.DataFrame({\n",
        "    \"carat\": [1],\n",
        "    \"depth\" : [50],\n",
        "    \"color_D\" : [0],\n",
        "    \"color_E\" : [1],\n",
        "    \"color_F\" : [0],\n",
        "    \"color_G\" : [0],\n",
        "    \"color_H\" : [0],\n",
        "    \"color_I\" : [0],\n",
        "    \"color_J\" : [0]\n",
        "})\n",
        "model_dia.predict(prob)"
      ],
      "execution_count": 37,
      "outputs": [
        {
          "output_type": "execute_result",
          "data": {
            "text/plain": [
              "0    6884.782287\n",
              "dtype: float64"
            ]
          },
          "metadata": {
            "tags": []
          },
          "execution_count": 37
        }
      ]
    },
    {
      "cell_type": "code",
      "metadata": {
        "id": "jRfezlAYnQ6O"
      },
      "source": [
        ""
      ],
      "execution_count": null,
      "outputs": []
    }
  ]
}