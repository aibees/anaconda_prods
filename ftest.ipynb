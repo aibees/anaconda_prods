{
  "nbformat": 4,
  "nbformat_minor": 0,
  "metadata": {
    "colab": {
      "name": "Untitled6.ipynb",
      "provenance": [],
      "authorship_tag": "ABX9TyO/9dKlJhw+8ga68/ZB34cC",
      "include_colab_link": true
    },
    "kernelspec": {
      "name": "python3",
      "display_name": "Python 3"
    },
    "language_info": {
      "name": "python"
    }
  },
  "cells": [
    {
      "cell_type": "markdown",
      "metadata": {
        "id": "view-in-github",
        "colab_type": "text"
      },
      "source": [
        "<a href=\"https://colab.research.google.com/github/aibees/anaconda_prods/blob/main/ftest.ipynb\" target=\"_parent\"><img src=\"https://colab.research.google.com/assets/colab-badge.svg\" alt=\"Open In Colab\"/></a>"
      ]
    },
    {
      "cell_type": "code",
      "metadata": {
        "id": "b9XrcY06TbW5"
      },
      "source": [
        "import pandas as pd\n",
        "from scipy.stats import bartlett\n",
        "from scipy.stats import levene\n",
        "from scipy.stats import f\n"
      ],
      "execution_count": 1,
      "outputs": []
    },
    {
      "cell_type": "code",
      "metadata": {
        "id": "kf8uGzGXTwvh"
      },
      "source": [
        "df = pd.read_csv(\"financial_info_10k_persons.csv\")"
      ],
      "execution_count": 2,
      "outputs": []
    },
    {
      "cell_type": "code",
      "metadata": {
        "colab": {
          "base_uri": "https://localhost:8080/",
          "height": 292
        },
        "id": "lJwBnxdQT3iH",
        "outputId": "7d0c528f-2a6e-416e-fab3-4e6d1e66cbc0"
      },
      "source": [
        "df.head()"
      ],
      "execution_count": 3,
      "outputs": [
        {
          "output_type": "execute_result",
          "data": {
            "text/html": [
              "<div>\n",
              "<style scoped>\n",
              "    .dataframe tbody tr th:only-of-type {\n",
              "        vertical-align: middle;\n",
              "    }\n",
              "\n",
              "    .dataframe tbody tr th {\n",
              "        vertical-align: top;\n",
              "    }\n",
              "\n",
              "    .dataframe thead th {\n",
              "        text-align: right;\n",
              "    }\n",
              "</style>\n",
              "<table border=\"1\" class=\"dataframe\">\n",
              "  <thead>\n",
              "    <tr style=\"text-align: right;\">\n",
              "      <th></th>\n",
              "      <th>ID</th>\n",
              "      <th>is_attrited</th>\n",
              "      <th>Age</th>\n",
              "      <th>Gender</th>\n",
              "      <th>Dependent_cnt</th>\n",
              "      <th>Edu_level</th>\n",
              "      <th>Marital_status</th>\n",
              "      <th>Income</th>\n",
              "      <th>Card</th>\n",
              "      <th>Period_m</th>\n",
              "      <th>Total_rel_cnt</th>\n",
              "      <th>Inactive_last_12m</th>\n",
              "      <th>Contacts_cnt_last_12m</th>\n",
              "      <th>Credit_limit</th>\n",
              "      <th>Total_trans_amt</th>\n",
              "      <th>Total_trans_cnt</th>\n",
              "    </tr>\n",
              "  </thead>\n",
              "  <tbody>\n",
              "    <tr>\n",
              "      <th>0</th>\n",
              "      <td>1</td>\n",
              "      <td>0</td>\n",
              "      <td>41</td>\n",
              "      <td>F</td>\n",
              "      <td>2</td>\n",
              "      <td>High School</td>\n",
              "      <td>Married</td>\n",
              "      <td>Less than $40K</td>\n",
              "      <td>Blue</td>\n",
              "      <td>36</td>\n",
              "      <td>6</td>\n",
              "      <td>2</td>\n",
              "      <td>2</td>\n",
              "      <td>4953.0</td>\n",
              "      <td>4183</td>\n",
              "      <td>67</td>\n",
              "    </tr>\n",
              "    <tr>\n",
              "      <th>1</th>\n",
              "      <td>2</td>\n",
              "      <td>0</td>\n",
              "      <td>38</td>\n",
              "      <td>M</td>\n",
              "      <td>0</td>\n",
              "      <td>High School</td>\n",
              "      <td>Single</td>\n",
              "      <td>$80K - $120K</td>\n",
              "      <td>Blue</td>\n",
              "      <td>29</td>\n",
              "      <td>3</td>\n",
              "      <td>3</td>\n",
              "      <td>2</td>\n",
              "      <td>5983.0</td>\n",
              "      <td>4141</td>\n",
              "      <td>65</td>\n",
              "    </tr>\n",
              "    <tr>\n",
              "      <th>2</th>\n",
              "      <td>3</td>\n",
              "      <td>0</td>\n",
              "      <td>57</td>\n",
              "      <td>F</td>\n",
              "      <td>2</td>\n",
              "      <td>Uneducated</td>\n",
              "      <td>Single</td>\n",
              "      <td>$40K - $60K</td>\n",
              "      <td>Silver</td>\n",
              "      <td>36</td>\n",
              "      <td>6</td>\n",
              "      <td>3</td>\n",
              "      <td>0</td>\n",
              "      <td>19482.0</td>\n",
              "      <td>1421</td>\n",
              "      <td>22</td>\n",
              "    </tr>\n",
              "    <tr>\n",
              "      <th>3</th>\n",
              "      <td>4</td>\n",
              "      <td>0</td>\n",
              "      <td>57</td>\n",
              "      <td>F</td>\n",
              "      <td>2</td>\n",
              "      <td>Doctorate</td>\n",
              "      <td>Single</td>\n",
              "      <td>Less than $40K</td>\n",
              "      <td>Blue</td>\n",
              "      <td>44</td>\n",
              "      <td>2</td>\n",
              "      <td>2</td>\n",
              "      <td>3</td>\n",
              "      <td>9149.0</td>\n",
              "      <td>14401</td>\n",
              "      <td>100</td>\n",
              "    </tr>\n",
              "    <tr>\n",
              "      <th>4</th>\n",
              "      <td>5</td>\n",
              "      <td>0</td>\n",
              "      <td>63</td>\n",
              "      <td>F</td>\n",
              "      <td>1</td>\n",
              "      <td>Uneducated</td>\n",
              "      <td>Single</td>\n",
              "      <td>Unknown</td>\n",
              "      <td>Blue</td>\n",
              "      <td>55</td>\n",
              "      <td>4</td>\n",
              "      <td>3</td>\n",
              "      <td>1</td>\n",
              "      <td>16312.0</td>\n",
              "      <td>4366</td>\n",
              "      <td>68</td>\n",
              "    </tr>\n",
              "  </tbody>\n",
              "</table>\n",
              "</div>"
            ],
            "text/plain": [
              "   ID  is_attrited  Age  ... Credit_limit  Total_trans_amt Total_trans_cnt\n",
              "0   1            0   41  ...       4953.0             4183              67\n",
              "1   2            0   38  ...       5983.0             4141              65\n",
              "2   3            0   57  ...      19482.0             1421              22\n",
              "3   4            0   57  ...       9149.0            14401             100\n",
              "4   5            0   63  ...      16312.0             4366              68\n",
              "\n",
              "[5 rows x 16 columns]"
            ]
          },
          "metadata": {
            "tags": []
          },
          "execution_count": 3
        }
      ]
    },
    {
      "cell_type": "code",
      "metadata": {
        "colab": {
          "base_uri": "https://localhost:8080/"
        },
        "id": "KFyotNGHT4kW",
        "outputId": "cf1762d0-a3bb-41bd-b9e8-6e9bcd593bbd"
      },
      "source": [
        "df.count()"
      ],
      "execution_count": 4,
      "outputs": [
        {
          "output_type": "execute_result",
          "data": {
            "text/plain": [
              "ID                       10000\n",
              "is_attrited              10000\n",
              "Age                      10000\n",
              "Gender                   10000\n",
              "Dependent_cnt            10000\n",
              "Edu_level                10000\n",
              "Marital_status           10000\n",
              "Income                   10000\n",
              "Card                     10000\n",
              "Period_m                 10000\n",
              "Total_rel_cnt            10000\n",
              "Inactive_last_12m        10000\n",
              "Contacts_cnt_last_12m    10000\n",
              "Credit_limit             10000\n",
              "Total_trans_amt          10000\n",
              "Total_trans_cnt          10000\n",
              "dtype: int64"
            ]
          },
          "metadata": {
            "tags": []
          },
          "execution_count": 4
        }
      ]
    },
    {
      "cell_type": "code",
      "metadata": {
        "id": "8sE0W14kT8FO"
      },
      "source": [
        "ser_M = df.loc[df[\"Gender\"] == \"M\", \"Period_m\"]"
      ],
      "execution_count": 7,
      "outputs": []
    },
    {
      "cell_type": "code",
      "metadata": {
        "id": "L5gjv0JRUIfe"
      },
      "source": [
        "ser_F = df.loc[df[\"Gender\"] == \"F\", \"Period_m\"]"
      ],
      "execution_count": 8,
      "outputs": []
    },
    {
      "cell_type": "code",
      "metadata": {
        "id": "pA8NiK2DUWVD"
      },
      "source": [
        "F = ser_M.var() / ser_F.var()"
      ],
      "execution_count": 9,
      "outputs": []
    },
    {
      "cell_type": "code",
      "metadata": {
        "colab": {
          "base_uri": "https://localhost:8080/"
        },
        "id": "bzC_T_tXUaiE",
        "outputId": "1b40f6bd-9791-4bdb-9d65-f224d3c9749a"
      },
      "source": [
        "result = f.cdf(F, dfd=len(ser_M), dfn=len(ser_F))\n",
        "result"
      ],
      "execution_count": 11,
      "outputs": [
        {
          "output_type": "execute_result",
          "data": {
            "text/plain": [
              "0.9188015375173473"
            ]
          },
          "metadata": {
            "tags": []
          },
          "execution_count": 11
        }
      ]
    },
    {
      "cell_type": "code",
      "metadata": {
        "id": "JbSAbfgYUbuT"
      },
      "source": [
        "p = (1-result) * 2"
      ],
      "execution_count": 12,
      "outputs": []
    },
    {
      "cell_type": "code",
      "metadata": {
        "colab": {
          "base_uri": "https://localhost:8080/"
        },
        "id": "xn8tHD8FWwLO",
        "outputId": "2958eeef-aaef-4691-925b-252fac518e0a"
      },
      "source": [
        "p"
      ],
      "execution_count": 13,
      "outputs": [
        {
          "output_type": "execute_result",
          "data": {
            "text/plain": [
              "0.16239692496530544"
            ]
          },
          "metadata": {
            "tags": []
          },
          "execution_count": 13
        }
      ]
    },
    {
      "cell_type": "code",
      "metadata": {
        "colab": {
          "base_uri": "https://localhost:8080/"
        },
        "id": "3x0VwTghWw6V",
        "outputId": "79343e79-02ef-469f-fa4a-6089f500ba45"
      },
      "source": [
        "bartlett(ser_M, ser_F)"
      ],
      "execution_count": 14,
      "outputs": [
        {
          "output_type": "execute_result",
          "data": {
            "text/plain": [
              "BartlettResult(statistic=1.9563015878266161, pvalue=0.16190940989253869)"
            ]
          },
          "metadata": {
            "tags": []
          },
          "execution_count": 14
        }
      ]
    },
    {
      "cell_type": "code",
      "metadata": {
        "colab": {
          "base_uri": "https://localhost:8080/"
        },
        "id": "stXPv8lSW_VM",
        "outputId": "869ab6b5-c890-4b07-bad3-c7d9b8b90b8a"
      },
      "source": [
        "levene(ser_M, ser_F)"
      ],
      "execution_count": 16,
      "outputs": [
        {
          "output_type": "execute_result",
          "data": {
            "text/plain": [
              "LeveneResult(statistic=2.4640198991740747, pvalue=0.11651198398605053)"
            ]
          },
          "metadata": {
            "tags": []
          },
          "execution_count": 16
        }
      ]
    },
    {
      "cell_type": "code",
      "metadata": {
        "id": "pfZtHcsIXekZ"
      },
      "source": [
        "## question\n",
        "df[\"ratio\"] = df[\"Total_trans_amt\"] / df[\"Total_trans_cnt\"]\n",
        "pay_M = df.loc[df[\"Gender\"] == \"M\", \"ratio\"]\n",
        "pay_F = df.loc[df[\"Gender\"] == \"F\", \"ratio\"]"
      ],
      "execution_count": 17,
      "outputs": []
    },
    {
      "cell_type": "code",
      "metadata": {
        "colab": {
          "base_uri": "https://localhost:8080/"
        },
        "id": "IuO8c-7TYDGQ",
        "outputId": "6917fde0-1a9c-4d0b-e4e7-b39f006ae775"
      },
      "source": [
        "pay_M"
      ],
      "execution_count": 20,
      "outputs": [
        {
          "output_type": "execute_result",
          "data": {
            "text/plain": [
              "1       63.707692\n",
              "6       40.041667\n",
              "10      34.555556\n",
              "21      84.222222\n",
              "23      43.340909\n",
              "          ...    \n",
              "9993    47.303571\n",
              "9995    24.739130\n",
              "9996    54.800000\n",
              "9997    50.234375\n",
              "9998    59.773810\n",
              "Name: ratio, Length: 4684, dtype: float64"
            ]
          },
          "metadata": {
            "tags": []
          },
          "execution_count": 20
        }
      ]
    },
    {
      "cell_type": "code",
      "metadata": {
        "colab": {
          "base_uri": "https://localhost:8080/"
        },
        "id": "mQeBiz8sYV5V",
        "outputId": "e193aed0-fd43-454e-e3d9-5b37cae45152"
      },
      "source": [
        "pay_F"
      ],
      "execution_count": 21,
      "outputs": [
        {
          "output_type": "execute_result",
          "data": {
            "text/plain": [
              "0        62.432836\n",
              "2        64.590909\n",
              "3       144.010000\n",
              "4        64.205882\n",
              "5       148.300000\n",
              "           ...    \n",
              "9986     56.138889\n",
              "9987     51.378788\n",
              "9992     57.694118\n",
              "9994     65.170732\n",
              "9999     62.859155\n",
              "Name: ratio, Length: 5316, dtype: float64"
            ]
          },
          "metadata": {
            "tags": []
          },
          "execution_count": 21
        }
      ]
    },
    {
      "cell_type": "code",
      "metadata": {
        "colab": {
          "base_uri": "https://localhost:8080/"
        },
        "id": "pU8NX-pmYWxd",
        "outputId": "08a0dc29-f37f-4d3c-9a65-854791ab4293"
      },
      "source": [
        "F = pay_M.var() / pay_F.var()\n",
        "result = f.cdf(F, dfd=len(pay_M), dfn=len(pay_F))\n",
        "print(round(F, 1), (1-result)*2)"
      ],
      "execution_count": 26,
      "outputs": [
        {
          "output_type": "stream",
          "text": [
            "1.7 2.220446049250313e-16\n"
          ],
          "name": "stdout"
        }
      ]
    },
    {
      "cell_type": "code",
      "metadata": {
        "id": "wDgaV9i-Y58Y"
      },
      "source": [
        "## question"
      ],
      "execution_count": 27,
      "outputs": []
    },
    {
      "cell_type": "code",
      "metadata": {
        "id": "42o-6KabZTDC"
      },
      "source": [
        "df5 = df.loc[df[\"Age\"] // 10 == 5, \"ratio\"]\n",
        "df6 = df.loc[df[\"Age\"] // 10 == 6, \"ratio\"]\n",
        "df7 = df.loc[df[\"Age\"] // 10 == 7, \"ratio\"]"
      ],
      "execution_count": 28,
      "outputs": []
    },
    {
      "cell_type": "code",
      "metadata": {
        "id": "AgCOpu5uZzdb"
      },
      "source": [
        "stat, p = bartlett(df5, df6, df7)"
      ],
      "execution_count": 29,
      "outputs": []
    },
    {
      "cell_type": "code",
      "metadata": {
        "colab": {
          "base_uri": "https://localhost:8080/"
        },
        "id": "YmUK8rUbZ4ko",
        "outputId": "3294a25a-af7e-48e3-ee43-da58bc0d7938"
      },
      "source": [
        "print(p)"
      ],
      "execution_count": 30,
      "outputs": [
        {
          "output_type": "stream",
          "text": [
            "0.004109245841612487\n"
          ],
          "name": "stdout"
        }
      ]
    },
    {
      "cell_type": "code",
      "metadata": {
        "colab": {
          "base_uri": "https://localhost:8080/",
          "height": 292
        },
        "id": "zvVVjzAzZ5-w",
        "outputId": "c24530c3-adc2-4607-9d75-4bb3385f46ce"
      },
      "source": [
        "df.head()"
      ],
      "execution_count": 31,
      "outputs": [
        {
          "output_type": "execute_result",
          "data": {
            "text/html": [
              "<div>\n",
              "<style scoped>\n",
              "    .dataframe tbody tr th:only-of-type {\n",
              "        vertical-align: middle;\n",
              "    }\n",
              "\n",
              "    .dataframe tbody tr th {\n",
              "        vertical-align: top;\n",
              "    }\n",
              "\n",
              "    .dataframe thead th {\n",
              "        text-align: right;\n",
              "    }\n",
              "</style>\n",
              "<table border=\"1\" class=\"dataframe\">\n",
              "  <thead>\n",
              "    <tr style=\"text-align: right;\">\n",
              "      <th></th>\n",
              "      <th>ID</th>\n",
              "      <th>is_attrited</th>\n",
              "      <th>Age</th>\n",
              "      <th>Gender</th>\n",
              "      <th>Dependent_cnt</th>\n",
              "      <th>Edu_level</th>\n",
              "      <th>Marital_status</th>\n",
              "      <th>Income</th>\n",
              "      <th>Card</th>\n",
              "      <th>Period_m</th>\n",
              "      <th>Total_rel_cnt</th>\n",
              "      <th>Inactive_last_12m</th>\n",
              "      <th>Contacts_cnt_last_12m</th>\n",
              "      <th>Credit_limit</th>\n",
              "      <th>Total_trans_amt</th>\n",
              "      <th>Total_trans_cnt</th>\n",
              "      <th>ratio</th>\n",
              "    </tr>\n",
              "  </thead>\n",
              "  <tbody>\n",
              "    <tr>\n",
              "      <th>0</th>\n",
              "      <td>1</td>\n",
              "      <td>0</td>\n",
              "      <td>41</td>\n",
              "      <td>F</td>\n",
              "      <td>2</td>\n",
              "      <td>High School</td>\n",
              "      <td>Married</td>\n",
              "      <td>Less than $40K</td>\n",
              "      <td>Blue</td>\n",
              "      <td>36</td>\n",
              "      <td>6</td>\n",
              "      <td>2</td>\n",
              "      <td>2</td>\n",
              "      <td>4953.0</td>\n",
              "      <td>4183</td>\n",
              "      <td>67</td>\n",
              "      <td>62.432836</td>\n",
              "    </tr>\n",
              "    <tr>\n",
              "      <th>1</th>\n",
              "      <td>2</td>\n",
              "      <td>0</td>\n",
              "      <td>38</td>\n",
              "      <td>M</td>\n",
              "      <td>0</td>\n",
              "      <td>High School</td>\n",
              "      <td>Single</td>\n",
              "      <td>$80K - $120K</td>\n",
              "      <td>Blue</td>\n",
              "      <td>29</td>\n",
              "      <td>3</td>\n",
              "      <td>3</td>\n",
              "      <td>2</td>\n",
              "      <td>5983.0</td>\n",
              "      <td>4141</td>\n",
              "      <td>65</td>\n",
              "      <td>63.707692</td>\n",
              "    </tr>\n",
              "    <tr>\n",
              "      <th>2</th>\n",
              "      <td>3</td>\n",
              "      <td>0</td>\n",
              "      <td>57</td>\n",
              "      <td>F</td>\n",
              "      <td>2</td>\n",
              "      <td>Uneducated</td>\n",
              "      <td>Single</td>\n",
              "      <td>$40K - $60K</td>\n",
              "      <td>Silver</td>\n",
              "      <td>36</td>\n",
              "      <td>6</td>\n",
              "      <td>3</td>\n",
              "      <td>0</td>\n",
              "      <td>19482.0</td>\n",
              "      <td>1421</td>\n",
              "      <td>22</td>\n",
              "      <td>64.590909</td>\n",
              "    </tr>\n",
              "    <tr>\n",
              "      <th>3</th>\n",
              "      <td>4</td>\n",
              "      <td>0</td>\n",
              "      <td>57</td>\n",
              "      <td>F</td>\n",
              "      <td>2</td>\n",
              "      <td>Doctorate</td>\n",
              "      <td>Single</td>\n",
              "      <td>Less than $40K</td>\n",
              "      <td>Blue</td>\n",
              "      <td>44</td>\n",
              "      <td>2</td>\n",
              "      <td>2</td>\n",
              "      <td>3</td>\n",
              "      <td>9149.0</td>\n",
              "      <td>14401</td>\n",
              "      <td>100</td>\n",
              "      <td>144.010000</td>\n",
              "    </tr>\n",
              "    <tr>\n",
              "      <th>4</th>\n",
              "      <td>5</td>\n",
              "      <td>0</td>\n",
              "      <td>63</td>\n",
              "      <td>F</td>\n",
              "      <td>1</td>\n",
              "      <td>Uneducated</td>\n",
              "      <td>Single</td>\n",
              "      <td>Unknown</td>\n",
              "      <td>Blue</td>\n",
              "      <td>55</td>\n",
              "      <td>4</td>\n",
              "      <td>3</td>\n",
              "      <td>1</td>\n",
              "      <td>16312.0</td>\n",
              "      <td>4366</td>\n",
              "      <td>68</td>\n",
              "      <td>64.205882</td>\n",
              "    </tr>\n",
              "  </tbody>\n",
              "</table>\n",
              "</div>"
            ],
            "text/plain": [
              "   ID  is_attrited  Age  ... Total_trans_amt  Total_trans_cnt       ratio\n",
              "0   1            0   41  ...            4183               67   62.432836\n",
              "1   2            0   38  ...            4141               65   63.707692\n",
              "2   3            0   57  ...            1421               22   64.590909\n",
              "3   4            0   57  ...           14401              100  144.010000\n",
              "4   5            0   63  ...            4366               68   64.205882\n",
              "\n",
              "[5 rows x 17 columns]"
            ]
          },
          "metadata": {
            "tags": []
          },
          "execution_count": 31
        }
      ]
    },
    {
      "cell_type": "code",
      "metadata": {
        "id": "g3coLtY8aMi6"
      },
      "source": [
        "## question\n",
        "df_q = df.loc[(df[\"Dependent_cnt\"] == 0) & (df[\"Gender\"] == \"M\"), [\"Edu_level\", \"ratio\"]]"
      ],
      "execution_count": 35,
      "outputs": []
    },
    {
      "cell_type": "code",
      "metadata": {
        "colab": {
          "base_uri": "https://localhost:8080/",
          "height": 204
        },
        "id": "3vE6O7PladeE",
        "outputId": "8d4acef5-a491-42f5-aba5-7ddaf9363e6b"
      },
      "source": [
        "df_q.head()"
      ],
      "execution_count": 36,
      "outputs": [
        {
          "output_type": "execute_result",
          "data": {
            "text/html": [
              "<div>\n",
              "<style scoped>\n",
              "    .dataframe tbody tr th:only-of-type {\n",
              "        vertical-align: middle;\n",
              "    }\n",
              "\n",
              "    .dataframe tbody tr th {\n",
              "        vertical-align: top;\n",
              "    }\n",
              "\n",
              "    .dataframe thead th {\n",
              "        text-align: right;\n",
              "    }\n",
              "</style>\n",
              "<table border=\"1\" class=\"dataframe\">\n",
              "  <thead>\n",
              "    <tr style=\"text-align: right;\">\n",
              "      <th></th>\n",
              "      <th>Edu_level</th>\n",
              "      <th>ratio</th>\n",
              "    </tr>\n",
              "  </thead>\n",
              "  <tbody>\n",
              "    <tr>\n",
              "      <th>1</th>\n",
              "      <td>High School</td>\n",
              "      <td>63.707692</td>\n",
              "    </tr>\n",
              "    <tr>\n",
              "      <th>26</th>\n",
              "      <td>College</td>\n",
              "      <td>61.153846</td>\n",
              "    </tr>\n",
              "    <tr>\n",
              "      <th>51</th>\n",
              "      <td>High School</td>\n",
              "      <td>57.931507</td>\n",
              "    </tr>\n",
              "    <tr>\n",
              "      <th>97</th>\n",
              "      <td>Unknown</td>\n",
              "      <td>38.628205</td>\n",
              "    </tr>\n",
              "    <tr>\n",
              "      <th>112</th>\n",
              "      <td>Unknown</td>\n",
              "      <td>43.208333</td>\n",
              "    </tr>\n",
              "  </tbody>\n",
              "</table>\n",
              "</div>"
            ],
            "text/plain": [
              "       Edu_level      ratio\n",
              "1    High School  63.707692\n",
              "26       College  61.153846\n",
              "51   High School  57.931507\n",
              "97       Unknown  38.628205\n",
              "112      Unknown  43.208333"
            ]
          },
          "metadata": {
            "tags": []
          },
          "execution_count": 36
        }
      ]
    },
    {
      "cell_type": "code",
      "metadata": {
        "colab": {
          "base_uri": "https://localhost:8080/"
        },
        "id": "REl5FudIao6K",
        "outputId": "68d65e63-2abf-4022-b428-cd9517dc6d45"
      },
      "source": [
        "df_q[\"Edu_level\"].unique()"
      ],
      "execution_count": 37,
      "outputs": [
        {
          "output_type": "execute_result",
          "data": {
            "text/plain": [
              "array(['High School', 'College', 'Unknown', 'Graduate', 'Uneducated',\n",
              "       'Doctorate', 'Post-Graduate'], dtype=object)"
            ]
          },
          "metadata": {
            "tags": []
          },
          "execution_count": 37
        }
      ]
    },
    {
      "cell_type": "code",
      "metadata": {
        "id": "lvcnJhFrc-d0"
      },
      "source": [
        "stat, p = levene(df_q.loc[df_q[\"Edu_level\"] == df_q[\"Edu_level\"].unique()[0], \"ratio\"],\n",
        "                 df_q.loc[df_q[\"Edu_level\"] == df_q[\"Edu_level\"].unique()[1], \"ratio\"],\n",
        "                 df_q.loc[df_q[\"Edu_level\"] == df_q[\"Edu_level\"].unique()[2], \"ratio\"],\n",
        "                 df_q.loc[df_q[\"Edu_level\"] == df_q[\"Edu_level\"].unique()[3], \"ratio\"],\n",
        "                 df_q.loc[df_q[\"Edu_level\"] == df_q[\"Edu_level\"].unique()[4], \"ratio\"],\n",
        "                 df_q.loc[df_q[\"Edu_level\"] == df_q[\"Edu_level\"].unique()[5], \"ratio\"],\n",
        "                 df_q.loc[df_q[\"Edu_level\"] == df_q[\"Edu_level\"].unique()[6], \"ratio\"])"
      ],
      "execution_count": 38,
      "outputs": []
    },
    {
      "cell_type": "code",
      "metadata": {
        "colab": {
          "base_uri": "https://localhost:8080/"
        },
        "id": "mNnxh1t0dwJx",
        "outputId": "0ee84be1-2f32-422a-a268-df0ed1a48a59"
      },
      "source": [
        "round(p, 3)"
      ],
      "execution_count": 39,
      "outputs": [
        {
          "output_type": "execute_result",
          "data": {
            "text/plain": [
              "0.507"
            ]
          },
          "metadata": {
            "tags": []
          },
          "execution_count": 39
        }
      ]
    },
    {
      "cell_type": "code",
      "metadata": {
        "id": "I7g-GViTdyNq"
      },
      "source": [
        ""
      ],
      "execution_count": null,
      "outputs": []
    }
  ]
}